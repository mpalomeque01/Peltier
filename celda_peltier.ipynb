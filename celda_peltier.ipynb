{
 "cells": [
  {
   "cell_type": "code",
   "execution_count": null,
   "metadata": {},
   "outputs": [],
   "source": [
    "import numpy as np\n",
    "import matplotlib.pyplot as plt\n",
    "import pandas as pd\n",
    "import pyvisa as visa\n",
    "import time\n",
    "import metodos_labo as labo\n",
    "plt.style.use('./informes.mplstyle')"
   ]
  },
  {
   "cell_type": "markdown",
   "metadata": {},
   "source": [
    "#### Identificar generador y termocuplas"
   ]
  },
  {
   "cell_type": "code",
   "execution_count": null,
   "metadata": {},
   "outputs": [],
   "source": [
    "rm = visa.ResourceManager()\n",
    "print(rm.list_resources())\n",
    "\n",
    "multi_up = rm.open_resource('GPIB0::22::INSTR')\n",
    "multi_down = rm.open_resource('GPIB0::23::INSTR')\n",
    "gen = rm.open_resource('GPIB0::25::INSTR')\n",
    "\n",
    "try:\n",
    "    print(multi_up.query_ascii_values('MEASURE:VOLT:DC?')[0] * 1e3)\n",
    "    print(multi_down.query_ascii_values('MEASURE:RESistance? 1000')[0])\n",
    "    print(gen.query_ascii_values('MEASURE:VOLT:DC?')[0])\n",
    "    \n",
    "except:\n",
    "    print('HUBO ERROR')\n",
    "multi_up.close()\n",
    "multi_down.close()\n",
    "gen.close()"
   ]
  },
  {
   "cell_type": "markdown",
   "metadata": {},
   "source": [
    "#### Medir tensión vs temperatura"
   ]
  },
  {
   "cell_type": "code",
   "execution_count": null,
   "metadata": {},
   "outputs": [],
   "source": [
    "rm = visa.ResourceManager()\n",
    "gen = rm.open_resource('GPIB0::25::INSTR')\n",
    "multi_up = rm.open_resource('GPIB0::22::INSTR')\n",
    "multi_down = rm.open_resource('GPIB0::23::INSTR')\n",
    "\n",
    "try:\n",
    "    \n",
    "    gen.write(\":SOUR:FUNC:MODE CURR\")\n",
    "    gen.write(\":SENS:VOLT:PROT 21\")\n",
    "    \n",
    "    # corrientes = [0.1, 0.3, 0.5, 0.75, 1, 1.25, 1.5]\n",
    "    I = 0.75  # A\n",
    "    duracion = 60  # s\n",
    "    \n",
    "    t = []\n",
    "    V_gen = []\n",
    "    V_termo_up = []\n",
    "    V_termo_down = []\n",
    "    \n",
    "    gen.write(f\":SOUR:CURR {I}\") # Pone la corriente\n",
    "    \n",
    "    t0 = time.time()\n",
    "    while time.time() - t0 <= duracion:\n",
    "        t.append(time.time() - t0)\n",
    "        V_gen.append(gen.query_ascii_values('MEASURE:VOLT:DC?')[0])\n",
    "        V_termo_up.append(multi_up.query_ascii_values('MEASURE:VOLT:DC?')[0])\n",
    "        V_termo_down.append(multi_down.query_ascii_values('MEASURE:VOLT:DC?')[0])\n",
    "    \n",
    "    # GUARDAR DATOS\n",
    "    \n",
    "    t = np.array(t)  # s\n",
    "    V_gen = np.array(V_gen)  # V\n",
    "    V_termo_up = np.array(V_termo_up)\n",
    "    V_termo_down = np.array(V_termo_down)\n",
    "    \n",
    "    df = pd.DataFrame({'Tiempo [s]' : t,\n",
    "                        'Tension generador [V]' : V_gen,\n",
    "                        'Tensión termocupla fria [V]' : V_termo_up,\n",
    "                        'Tensión termocupla caliente [V]' : V_termo_down})\n",
    "    \n",
    "    labo.save(df, f'celda_tvsV_I={I}', './Mediciones/Clase 2')\n",
    "    \n",
    "    \n",
    "    # GRAFICAR\n",
    "    \n",
    "    fig, ax = plt.subplots()\n",
    "    ax.set_ylabel('Tensión [V]')\n",
    "    ax.set_xlabel('Tiempo [s]')\n",
    "    \n",
    "    ax.plot(t, V_gen)\n",
    "    \n",
    "    \n",
    "    plt.show()\n",
    "    \n",
    "    \n",
    "except:\n",
    "    print('HUBO ERROR')\n",
    "gen.close()"
   ]
  }
 ],
 "metadata": {
  "language_info": {
   "name": "python"
  },
  "orig_nbformat": 4
 },
 "nbformat": 4,
 "nbformat_minor": 2
}
